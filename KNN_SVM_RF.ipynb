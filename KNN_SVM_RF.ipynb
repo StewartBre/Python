{
 "cells": [
  {
   "cell_type": "markdown",
   "metadata": {},
   "source": [
    "By Stewart Brehaut \n",
    "\n",
    "Using StackOverflow, consulting university forums and the user guides helped me with this project"
   ]
  },
  {
   "cell_type": "markdown",
   "metadata": {},
   "source": [
    "## K-Nearest Neighbour Classification\n",
    "\n"
   ]
  },
  {
   "cell_type": "code",
   "execution_count": 1,
   "metadata": {},
   "outputs": [
    {
     "name": "stderr",
     "output_type": "stream",
     "text": [
      "C:\\Users\\Stuart\\Anaconda2\\lib\\site-packages\\sklearn\\cross_validation.py:44: DeprecationWarning: This module was deprecated in version 0.18 in favor of the model_selection module into which all the refactored classes and functions are moved. Also note that the interface of the new CV iterators are different from that of this module. This module will be removed in 0.20.\n",
      "  \"This module will be removed in 0.20.\", DeprecationWarning)\n"
     ]
    }
   ],
   "source": [
    "import pandas as pd\n",
    "import numpy as np\n",
    "from sklearn.neighbors import KNeighborsClassifier\n",
    "from sklearn import metrics\n",
    "from sklearn.cross_validation import cross_val_score\n",
    "import matplotlib.pyplot as plt\n",
    "%matplotlib inline"
   ]
  },
  {
   "cell_type": "markdown",
   "metadata": {},
   "source": [
    "Importing necessary modules"
   ]
  },
  {
   "cell_type": "code",
   "execution_count": 2,
   "metadata": {
    "collapsed": true
   },
   "outputs": [],
   "source": [
    "X_train = pd.read_table('train/X_train.txt',header = None,sep='\\s+')\n",
    "y_train = pd.read_table('train/y_train.txt',header = None,sep='\\s+')\n",
    "y_test = pd.read_table('test/y_test.txt',header = None,sep='\\s+')\n",
    "X_test = pd.read_table('test/X_test.txt',header = None,sep='\\s+')"
   ]
  },
  {
   "cell_type": "markdown",
   "metadata": {},
   "source": [
    "X_train, X_test and y_train, y_test data are imported as pandas dataframes."
   ]
  },
  {
   "cell_type": "code",
   "execution_count": 3,
   "metadata": {
    "collapsed": true
   },
   "outputs": [],
   "source": [
    "y_train1 = np.ravel(y_train)"
   ]
  },
  {
   "cell_type": "markdown",
   "metadata": {},
   "source": [
    "np.ravel had to be used on y_train in order to use for loop and perform KNN, y_train becomes y_train1 once ravel has been used"
   ]
  },
  {
   "cell_type": "code",
   "execution_count": 4,
   "metadata": {},
   "outputs": [
    {
     "name": "stdout",
     "output_type": "stream",
     "text": [
      "[0.89058272256825144, 0.87811466680830264, 0.90172482221590788, 0.90009628679531473, 0.90567685770258355, 0.90467998462389387, 0.90583824294291004, 0.90833015054799449, 0.90462365329351913, 0.90886778090608167, 0.90650457346675439, 0.90756297147124643, 0.90573675198025483, 0.90779060818700685, 0.90694705925721331, 0.9052217796744767, 0.90570109161707113, 0.90572965125413207, 0.90589469712524107, 0.90697709314419084, 0.90547837008266363, 0.90384508581592338, 0.90465777160509409, 0.90358386116220635, 0.90385494003178413, 0.90315365626902167, 0.90321990719143452, 0.90197229106299193, 0.90082581961256936, 0.90148308934036092, 0.90200148971267102, 0.90195580485286142, 0.90185550018365657, 0.90152841836237396, 0.90106794228732967, 0.90023266969540061, 0.90057287747440762, 0.90064993624055523, 0.90112191157115618, 0.90084012823626691, 0.89895939772281519, 0.90081169116488469, 0.89936908338746535, 0.89935934940293816, 0.89970866457405574, 0.89968776955524932, 0.89782335868627905, 0.89848234723146025, 0.89754855700513225, 0.89715076083071743]\n"
     ]
    }
   ],
   "source": [
    "k_range = list(range(1, 51))\n",
    "k_scores = []\n",
    "\n",
    "for k in k_range:\n",
    "    knn = KNeighborsClassifier(n_neighbors=k, n_jobs=-1)\n",
    "    scores = cross_val_score(knn, X_train, y_train1, cv=10, scoring='f1_macro', n_jobs=-1)\n",
    "    k_scores.append(scores.mean())\n",
    "print(k_scores)"
   ]
  },
  {
   "cell_type": "markdown",
   "metadata": {},
   "source": [
    "A for loop is used to find the best value of K with a cross fold validation/cv of 10, scoring is f1_macro as it is not binary."
   ]
  },
  {
   "cell_type": "code",
   "execution_count": 5,
   "metadata": {},
   "outputs": [
    {
     "data": {
      "text/plain": [
       "<matplotlib.text.Text at 0xc1bd780>"
      ]
     },
     "execution_count": 5,
     "metadata": {},
     "output_type": "execute_result"
    },
    {
     "data": {
      "image/png": "[encoded data removed]",
      "text/plain": [
       "<matplotlib.figure.Figure at 0xc13acf8>"
      ]
     },
     "metadata": {},
     "output_type": "display_data"
    }
   ],
   "source": [
    "plt.plot(k_range, k_scores)\n",
    "plt.xlabel('Value of K for KNN')\n",
    "plt.ylabel('Cross-Validated  F1 Accuracy')"
   ]
  },
  {
   "cell_type": "code",
   "execution_count": 6,
   "metadata": {},
   "outputs": [
    {
     "name": "stdout",
     "output_type": "stream",
     "text": [
      "KNN Testing Accuracy: 0.906684764167\n",
      "KNN F1 Score: 0.90597818803\n",
      "- Confusion Matrix: \n",
      "[[486   0  10   0   0   0]\n",
      " [ 36 431   4   0   0   0]\n",
      " [ 51  41 328   0   0   0]\n",
      " [  0   4   0 409  78   0]\n",
      " [  0   0   0  47 485   0]\n",
      " [  0   0   0   2   2 533]]\n"
     ]
    }
   ],
   "source": [
    "knn_model = KNeighborsClassifier(n_neighbors=10, n_jobs=-1)\n",
    "knn_model.fit(X_train, y_train1)\n",
    "\n",
    "knn_acc_test = metrics.accuracy_score(y_test, knn_model.predict(X_test))\n",
    "knn_f1_test = metrics.f1_score(y_test, knn_model.predict(X_test), average='weighted')\n",
    "\n",
    "print \"KNN Testing Accuracy: {}\".format(knn_acc_test)\n",
    "print \"KNN F1 Score: {}\".format(knn_f1_test)\n",
    "print \"- Confusion Matrix: \"\n",
    "print metrics.confusion_matrix(y_test, knn_model.predict(X_test))"
   ]
  },
  {
   "cell_type": "markdown",
   "metadata": {},
   "source": [
    "KNN classifier is used with the number of neighbors being 10, the Accuracy, F1 Score and Confusion matrix is printed."
   ]
  },
  {
   "cell_type": "markdown",
   "metadata": {},
   "source": [
    "#### Multiclass Logistic Regression with Elastic Net\n",
    "\n"
   ]
  },
  {
   "cell_type": "code",
   "execution_count": 7,
   "metadata": {},
   "outputs": [
    {
     "name": "stderr",
     "output_type": "stream",
     "text": [
      "C:\\Users\\Stuart\\Anaconda2\\lib\\site-packages\\sklearn\\grid_search.py:43: DeprecationWarning: This module was deprecated in version 0.18 in favor of the model_selection module into which all the refactored classes and functions are moved. This module will be removed in 0.20.\n",
      "  DeprecationWarning)\n"
     ]
    }
   ],
   "source": [
    "from sklearn.linear_model import SGDClassifier\n",
    "from sklearn.grid_search import GridSearchCV"
   ]
  },
  {
   "cell_type": "markdown",
   "metadata": {},
   "source": [
    "Importing necessary modules"
   ]
  },
  {
   "cell_type": "code",
   "execution_count": 8,
   "metadata": {},
   "outputs": [
    {
     "name": "stdout",
     "output_type": "stream",
     "text": [
      "{'l1_ratio': [0, 0.15, 0.5, 0.7, 1], 'alpha': [0.0001, 0.0003, 0.001, 0.003, 0.01, 0.03]}\n"
     ]
    }
   ],
   "source": [
    "alpha_vals = [0.0001,0.0003,0.001,0.003,0.01,0.03]\n",
    "l1_ratio_vals= [0,0.15,0.5,0.7,1]\n",
    "sgd = SGDClassifier(loss='log', penalty='elasticnet', alpha= 0.0001, l1_ratio= 0, n_jobs=-1)\n",
    "param_grid_sgd = dict(alpha=alpha_vals, l1_ratio=l1_ratio_vals)\n",
    "print(param_grid_sgd)"
   ]
  },
  {
   "cell_type": "markdown",
   "metadata": {},
   "source": [
    "This save the alpha values and l1 ratio vals in a parameter dictionary so GridSearchCV will run the SGDClassifier with all the combinations calculating the mean f1 scores over 10 cross validations."
   ]
  },
  {
   "cell_type": "code",
   "execution_count": 9,
   "metadata": {},
   "outputs": [
    {
     "name": "stdout",
     "output_type": "stream",
     "text": [
      "0.932504696685\n",
      "{'alpha': 0.001, 'l1_ratio': 0.5}\n",
      "SGDClassifier(alpha=0.001, average=False, class_weight=None, epsilon=0.1,\n",
      "       eta0=0.0, fit_intercept=True, l1_ratio=0.5, learning_rate='optimal',\n",
      "       loss='log', n_iter=5, n_jobs=-1, penalty='elasticnet', power_t=0.5,\n",
      "       random_state=None, shuffle=True, verbose=0, warm_start=False)\n"
     ]
    }
   ],
   "source": [
    "grid_sgd = GridSearchCV(sgd, param_grid_sgd, cv=10, scoring='f1_macro', n_jobs=-1)\n",
    "grid_sgd.fit(X_train, y_train1)\n",
    "print(grid_sgd.best_score_)\n",
    "print(grid_sgd.best_params_)\n",
    "print(grid_sgd.best_estimator_)"
   ]
  },
  {
   "cell_type": "markdown",
   "metadata": {},
   "source": [
    "This performs the parameter search fitted to the data, then gives us the grid scores, also gives us the best grid score and parameters based on f1_macro."
   ]
  },
  {
   "cell_type": "code",
   "execution_count": 10,
   "metadata": {},
   "outputs": [
    {
     "data": {
      "text/plain": [
       "[mean: 0.91151, std: 0.02732, params: {'alpha': 0.0001, 'l1_ratio': 0},\n",
       " mean: 0.91678, std: 0.05820, params: {'alpha': 0.0001, 'l1_ratio': 0.15},\n",
       " mean: 0.91936, std: 0.06343, params: {'alpha': 0.0001, 'l1_ratio': 0.5},\n",
       " mean: 0.92778, std: 0.05432, params: {'alpha': 0.0001, 'l1_ratio': 0.7},\n",
       " mean: 0.92831, std: 0.05021, params: {'alpha': 0.0001, 'l1_ratio': 1},\n",
       " mean: 0.90602, std: 0.05889, params: {'alpha': 0.0003, 'l1_ratio': 0},\n",
       " mean: 0.91589, std: 0.05725, params: {'alpha': 0.0003, 'l1_ratio': 0.15},\n",
       " mean: 0.92536, std: 0.05877, params: {'alpha': 0.0003, 'l1_ratio': 0.5},\n",
       " mean: 0.92848, std: 0.05388, params: {'alpha': 0.0003, 'l1_ratio': 0.7},\n",
       " mean: 0.92339, std: 0.05579, params: {'alpha': 0.0003, 'l1_ratio': 1},\n",
       " mean: 0.91314, std: 0.06006, params: {'alpha': 0.001, 'l1_ratio': 0},\n",
       " mean: 0.92234, std: 0.05085, params: {'alpha': 0.001, 'l1_ratio': 0.15},\n",
       " mean: 0.93250, std: 0.05752, params: {'alpha': 0.001, 'l1_ratio': 0.5},\n",
       " mean: 0.92973, std: 0.05659, params: {'alpha': 0.001, 'l1_ratio': 0.7},\n",
       " mean: 0.91581, std: 0.06152, params: {'alpha': 0.001, 'l1_ratio': 1},\n",
       " mean: 0.93041, std: 0.05017, params: {'alpha': 0.003, 'l1_ratio': 0},\n",
       " mean: 0.92858, std: 0.04521, params: {'alpha': 0.003, 'l1_ratio': 0.15},\n",
       " mean: 0.92895, std: 0.04984, params: {'alpha': 0.003, 'l1_ratio': 0.5},\n",
       " mean: 0.92511, std: 0.05293, params: {'alpha': 0.003, 'l1_ratio': 0.7},\n",
       " mean: 0.90495, std: 0.06459, params: {'alpha': 0.003, 'l1_ratio': 1},\n",
       " mean: 0.90950, std: 0.05140, params: {'alpha': 0.01, 'l1_ratio': 0},\n",
       " mean: 0.91381, std: 0.04844, params: {'alpha': 0.01, 'l1_ratio': 0.15},\n",
       " mean: 0.89891, std: 0.05293, params: {'alpha': 0.01, 'l1_ratio': 0.5},\n",
       " mean: 0.89087, std: 0.05116, params: {'alpha': 0.01, 'l1_ratio': 0.7},\n",
       " mean: 0.89817, std: 0.05748, params: {'alpha': 0.01, 'l1_ratio': 1},\n",
       " mean: 0.89839, std: 0.04772, params: {'alpha': 0.03, 'l1_ratio': 0},\n",
       " mean: 0.88586, std: 0.04806, params: {'alpha': 0.03, 'l1_ratio': 0.15},\n",
       " mean: 0.84985, std: 0.05115, params: {'alpha': 0.03, 'l1_ratio': 0.5},\n",
       " mean: 0.81993, std: 0.05117, params: {'alpha': 0.03, 'l1_ratio': 0.7},\n",
       " mean: 0.77455, std: 0.06216, params: {'alpha': 0.03, 'l1_ratio': 1}]"
      ]
     },
     "execution_count": 10,
     "metadata": {},
     "output_type": "execute_result"
    }
   ],
   "source": [
    "grid_sgd.grid_scores_"
   ]
  },
  {
   "cell_type": "markdown",
   "metadata": {},
   "source": [
    "This is all of the different scores. "
   ]
  },
  {
   "cell_type": "code",
   "execution_count": 24,
   "metadata": {},
   "outputs": [
    {
     "name": "stdout",
     "output_type": "stream",
     "text": [
      "SGD Model  Accuracy: 0.948422124194\n",
      "SGD F1 Score: 0.9480832525\n",
      "- Confusion Matrix: \n",
      "[[494   0   2   0   0   0]\n",
      " [ 25 438   7   1   0   0]\n",
      " [  8  12 397   0   3   0]\n",
      " [  0   3   0 413  75   0]\n",
      " [  1   0   0  15 516   0]\n",
      " [  0   0   0   0   0 537]]\n"
     ]
    }
   ],
   "source": [
    "sgd_model = SGDClassifier(loss='log', penalty='elasticnet', alpha=0.001, l1_ratio=0.5, n_jobs=-1) \n",
    "sgd_model.fit(X_train, y_train1)\n",
    "sgd_acc_test = metrics.accuracy_score(y_test, sgd_model.predict(X_test))\n",
    "sgd_f1_test = metrics.f1_score(y_test, sgd_model.predict(X_test), average='macro')\n",
    "\n",
    "print \"SGD Model  Accuracy: {}\".format(sgd_acc_test)\n",
    "print \"SGD F1 Score: {}\".format(sgd_f1_test)\n",
    "print \"- Confusion Matrix: \"\n",
    "print metrics.confusion_matrix(y_test, sgd_model.predict(X_test))"
   ]
  },
  {
   "cell_type": "markdown",
   "metadata": {},
   "source": [
    "Retraining model with best alpha and l1 ratio, f1 score, accuracy, and confusion matrix printed."
   ]
  },
  {
   "cell_type": "markdown",
   "metadata": {},
   "source": [
    "## Support Vector Machine (RBF Kernel)\n",
    "\n"
   ]
  },
  {
   "cell_type": "code",
   "execution_count": 12,
   "metadata": {
    "collapsed": true
   },
   "outputs": [],
   "source": [
    "from sklearn import svm \n",
    "\n",
    "gamma_vals = [1e-3,1e-4]\n",
    "c_vals = [1, 10, 100, 1000]\n",
    "\n"
   ]
  },
  {
   "cell_type": "markdown",
   "metadata": {},
   "source": [
    "Importing necessary module and creating gamme and c lists for parameter search"
   ]
  },
  {
   "cell_type": "code",
   "execution_count": 13,
   "metadata": {},
   "outputs": [
    {
     "name": "stdout",
     "output_type": "stream",
     "text": [
      "{'C': [1, 10, 100, 1000], 'gamma': [0.001, 0.0001]}\n"
     ]
    }
   ],
   "source": [
    "svm = svm.SVC(C=1, kernel='rbf', gamma=0.001)\n",
    "param_grid_svm = dict(gamma=gamma_vals, C=c_vals)\n",
    "print(param_grid_svm)  "
   ]
  },
  {
   "cell_type": "markdown",
   "metadata": {},
   "source": [
    "Creating parameter dictionary and setting up svm model"
   ]
  },
  {
   "cell_type": "code",
   "execution_count": 14,
   "metadata": {},
   "outputs": [
    {
     "data": {
      "text/plain": [
       "[mean: 0.90619, std: 0.04429, params: {'C': 1, 'gamma': 0.001},\n",
       " mean: 0.79190, std: 0.04114, params: {'C': 1, 'gamma': 0.0001},\n",
       " mean: 0.94174, std: 0.04454, params: {'C': 10, 'gamma': 0.001},\n",
       " mean: 0.90637, std: 0.04472, params: {'C': 10, 'gamma': 0.0001},\n",
       " mean: 0.94860, std: 0.04531, params: {'C': 100, 'gamma': 0.001},\n",
       " mean: 0.94089, std: 0.04690, params: {'C': 100, 'gamma': 0.0001},\n",
       " mean: 0.95022, std: 0.04471, params: {'C': 1000, 'gamma': 0.001},\n",
       " mean: 0.94540, std: 0.04912, params: {'C': 1000, 'gamma': 0.0001}]"
      ]
     },
     "execution_count": 14,
     "metadata": {},
     "output_type": "execute_result"
    }
   ],
   "source": [
    "grid_svm = GridSearchCV(svm, param_grid_svm, cv=10, scoring='f1_macro', n_jobs=-1)\n",
    "grid_svm.fit(X_train, y_train1)\n",
    "grid_svm.grid_scores_"
   ]
  },
  {
   "cell_type": "markdown",
   "metadata": {},
   "source": [
    "Performing parameter search fitted to data, printing grid scores."
   ]
  },
  {
   "cell_type": "code",
   "execution_count": 15,
   "metadata": {},
   "outputs": [
    {
     "name": "stdout",
     "output_type": "stream",
     "text": [
      "0.95021900486\n",
      "{'C': 1000, 'gamma': 0.001}\n",
      "SVC(C=1000, cache_size=200, class_weight=None, coef0=0.0,\n",
      "  decision_function_shape=None, degree=3, gamma=0.001, kernel='rbf',\n",
      "  max_iter=-1, probability=False, random_state=None, shrinking=True,\n",
      "  tol=0.001, verbose=False)\n"
     ]
    }
   ],
   "source": [
    "print(grid_svm.best_score_)\n",
    "print(grid_svm.best_params_)\n",
    "print(grid_svm.best_estimator_)"
   ]
  },
  {
   "cell_type": "markdown",
   "metadata": {},
   "source": [
    "Best score and gamme and C printed"
   ]
  },
  {
   "cell_type": "code",
   "execution_count": 18,
   "metadata": {},
   "outputs": [
    {
     "name": "stdout",
     "output_type": "stream",
     "text": [
      "SVM Model  Accuracy: 0.965727858839\n",
      "SVM F1 Score: 0.965767519546\n",
      "- Confusion Matrix: \n",
      "[[493   0   3   0   0   0]\n",
      " [ 17 454   0   0   0   0]\n",
      " [  4  10 406   0   0   0]\n",
      " [  0   2   0 436  53   0]\n",
      " [  0   0   0  12 520   0]\n",
      " [  0   0   0   0   0 537]]\n"
     ]
    }
   ],
   "source": [
    "from sklearn import svm \n",
    "svm_model = svm.SVC(C=1000, kernel='rbf', gamma=0.001)\n",
    "svm_model.fit(X_train, y_train1)\n",
    "svm_acc_test = metrics.accuracy_score(y_test, svm_model.predict(X_test))\n",
    "svm_f1_test = metrics.f1_score(y_test, svm_model.predict(X_test), average='macro')\n",
    "print \"SVM Model  Accuracy: {}\".format(svm_acc_test)\n",
    "print \"SVM F1 Score: {}\".format(svm_f1_test)\n",
    "print \"- Confusion Matrix: \"\n",
    "print metrics.confusion_matrix(y_test, svm_model.predict(X_test))"
   ]
  },
  {
   "cell_type": "markdown",
   "metadata": {},
   "source": [
    "retraining model with best C and gamma, accuracy, f1score, and confusion matrix printed"
   ]
  },
  {
   "cell_type": "markdown",
   "metadata": {},
   "source": [
    "## Random Forest\n",
    "\n"
   ]
  },
  {
   "cell_type": "code",
   "execution_count": 19,
   "metadata": {
    "collapsed": true
   },
   "outputs": [],
   "source": [
    "from sklearn.ensemble import RandomForestClassifier\n",
    "\n",
    "tree_depth = [300, 500, 600]\n",
    "tree_num = [200, 500, 700]"
   ]
  },
  {
   "cell_type": "markdown",
   "metadata": {},
   "source": [
    "Importing necessary modules and saving tree depth and numbers"
   ]
  },
  {
   "cell_type": "code",
   "execution_count": 20,
   "metadata": {},
   "outputs": [
    {
     "name": "stdout",
     "output_type": "stream",
     "text": [
      "{'n_estimators': [200, 500, 700], 'max_depth': [300, 500, 600]}\n"
     ]
    }
   ],
   "source": [
    "rfclf = RandomForestClassifier(n_estimators=300, max_depth=500, n_jobs=-1)\n",
    "param_grid_rf = dict(n_estimators=tree_num, max_depth=tree_depth)\n",
    "print(param_grid_rf)  "
   ]
  },
  {
   "cell_type": "markdown",
   "metadata": {},
   "source": [
    "Creating parameter dictionary and setting up RFC "
   ]
  },
  {
   "cell_type": "code",
   "execution_count": 21,
   "metadata": {},
   "outputs": [
    {
     "data": {
      "text/plain": [
       "[mean: 0.92867, std: 0.04623, params: {'n_estimators': 200, 'max_depth': 300},\n",
       " mean: 0.92852, std: 0.04520, params: {'n_estimators': 500, 'max_depth': 300},\n",
       " mean: 0.92951, std: 0.04691, params: {'n_estimators': 700, 'max_depth': 300},\n",
       " mean: 0.92852, std: 0.04488, params: {'n_estimators': 200, 'max_depth': 500},\n",
       " mean: 0.92809, std: 0.04628, params: {'n_estimators': 500, 'max_depth': 500},\n",
       " mean: 0.92912, std: 0.04770, params: {'n_estimators': 700, 'max_depth': 500},\n",
       " mean: 0.92673, std: 0.04247, params: {'n_estimators': 200, 'max_depth': 600},\n",
       " mean: 0.92927, std: 0.04725, params: {'n_estimators': 500, 'max_depth': 600},\n",
       " mean: 0.92886, std: 0.04578, params: {'n_estimators': 700, 'max_depth': 600}]"
      ]
     },
     "execution_count": 21,
     "metadata": {},
     "output_type": "execute_result"
    }
   ],
   "source": [
    "grid_rf = GridSearchCV(rfclf, param_grid_rf, cv=10, scoring='f1_macro', n_jobs=-1)\n",
    "grid_rf.fit(X_train, y_train1)\n",
    "grid_rf.grid_scores_"
   ]
  },
  {
   "cell_type": "markdown",
   "metadata": {},
   "source": [
    "Performing parameter search fitted to data, printing grid scores."
   ]
  },
  {
   "cell_type": "code",
   "execution_count": 22,
   "metadata": {},
   "outputs": [
    {
     "name": "stdout",
     "output_type": "stream",
     "text": [
      "0.929512823873\n",
      "{'n_estimators': 700, 'max_depth': 300}\n",
      "RandomForestClassifier(bootstrap=True, class_weight=None, criterion='gini',\n",
      "            max_depth=300, max_features='auto', max_leaf_nodes=None,\n",
      "            min_impurity_split=1e-07, min_samples_leaf=1,\n",
      "            min_samples_split=2, min_weight_fraction_leaf=0.0,\n",
      "            n_estimators=700, n_jobs=-1, oob_score=False,\n",
      "            random_state=None, verbose=0, warm_start=False)\n"
     ]
    }
   ],
   "source": [
    "print(grid_rf.best_score_)\n",
    "print(grid_rf.best_params_)\n",
    "print(grid_rf.best_estimator_)"
   ]
  },
  {
   "cell_type": "markdown",
   "metadata": {},
   "source": [
    "Best score and tree depth and number based on f1 score printed "
   ]
  },
  {
   "cell_type": "code",
   "execution_count": 25,
   "metadata": {},
   "outputs": [
    {
     "name": "stdout",
     "output_type": "stream",
     "text": [
      "Random Forest Classifier Accuracy: 0.923990498812\n",
      "RFC F1 Score: 0.9220223891\n",
      "- Confusion Matrix: \n",
      "[[479  10   7   0   0   0]\n",
      " [ 34 430   7   0   0   0]\n",
      " [ 19  47 354   0   0   0]\n",
      " [  0   0   0 437  54   0]\n",
      " [  0   0   0  46 486   0]\n",
      " [  0   0   0   0   0 537]]\n"
     ]
    }
   ],
   "source": [
    "rfclf = RandomForestClassifier(n_estimators=700, max_depth=300, n_jobs=-1)\n",
    "rfclf.fit(X_train,y_train1)\n",
    "\n",
    "rfclf_acc_test = metrics.accuracy_score(y_test, rfclf.predict(X_test))\n",
    "rfclf_f1_test = metrics.f1_score(y_test, rfclf.predict(X_test), average='macro')\n",
    "\n",
    "print \"Random Forest Classifier Accuracy: {}\".format(rfclf_acc_test)\n",
    "print \"RFC F1 Score: {}\".format(rfclf_f1_test)\n",
    "print \"- Confusion Matrix: \"\n",
    "print metrics.confusion_matrix(y_test, rfclf.predict(X_test))"
   ]
  },
  {
   "cell_type": "markdown",
   "metadata": {},
   "source": [
    "retraining model with best tree number and tree depth, accuracy, f1score, and confusion matrix printed"
   ]
  },
  {
   "cell_type": "markdown",
   "metadata": {},
   "source": [
    "## Brief Discussion\n",
    "\n"
   ]
  },
  {
   "cell_type": "markdown",
   "metadata": {},
   "source": [
    "The classification method that achieved the best performance was the Support Vector Machine with RBF Kernel, its f1 score and accuracy was the highest. SVM might have achieved the best performance because it had a better list of parameters to choose from. SVM could have performed better because Support Vector Machine models are good in high dimensional space. Also trades SVM off misclassification of training examples against simplicity of the decision surface. A low C makes the decision surface smooth, while a high C aims at classifying all training examples correctly might have helped with performance.  The classification method which achieved the worst performance was the K nearest neighbour followed by random forest. The results in the dataset paper were an overall accuracy of 96% the SVM model I created achieved an accuracy of 96% or 96.5%, so it is possibile to achieve better results than what was in the dataset paper using an SVM with RBF kernel. The other classification methods achieved a worse accuracy than the results in the dataset paper. \n",
    "\n",
    "Suggestions to improve further model performance could include getting more data if possible, maybe pre processing and normalising data better. Could also use feature selection, and using random search to find best parameters or using more potential parameter combinations in GridSearch. Could also project data into a lower dimensional space, and possibily add more features or use less features. Could also try a different evaluation metric."
   ]
  }
 ],
 "metadata": {
  "kernelspec": {
   "display_name": "Python 3",
   "language": "python",
   "name": "python3"
  },
  "language_info": {
   "codemirror_mode": {
    "name": "ipython",
    "version": 3
   },
   "file_extension": ".py",
   "mimetype": "text/x-python",
   "name": "python",
   "nbconvert_exporter": "python",
   "pygments_lexer": "ipython3",
   "version": "3.6.5"
  }
 },
 "nbformat": 4,
 "nbformat_minor": 2
}
